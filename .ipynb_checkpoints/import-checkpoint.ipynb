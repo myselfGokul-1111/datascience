{
 "cells": [
  {
   "cell_type": "code",
   "execution_count": null,
   "id": "file-generation",
   "metadata": {},
   "outputs": [],
   "source": [
    "# --- CREATE ALL REQUIRED DATA FILES AUTOMATICALLY ---\n",
    "import pandas as pd\n",
    "import json\n",
    "\n",
    "# students.csv\n",
    "students_csv = \"\"\"Name,Age,Grade\n",
    "Alice,20,A\n",
    "Bob,21,B\n",
    "Charlie,20,A\n",
    "David,22,C\n",
    "Eva,21,B\n",
    "\"\"\"\n",
    "with open('students.csv', 'w') as f:\n",
    "    f.write(students_csv)\n",
    "\n",
    "# sales.xlsx\n",
    "sales_data = {\n",
    "    'Q1': [100, 150, 175],\n",
    "    'Q2': [200, 250, 225],\n",
    "    'Q3': [300, 350, 325]\n",
    "}\n",
    "df_sales = pd.DataFrame(sales_data)\n",
    "df_sales.to_excel('sales.xlsx', index=False)\n",
    "\n",
    "# data.json\n",
    "data_json = [\n",
    "    {\"id\": 1, \"name\": \"Alice\", \"status\": \"active\"},\n",
    "    {\"id\": 2, \"name\": \"Bob\", \"status\": \"inactive\"},\n",
    "    {\"id\": 3, \"name\": \"Charlie\", \"status\": \"active\"},\n",
    "    {\"id\": 4, \"name\": \"David\", \"status\": \"active\"},\n",
    "    {\"id\": 5, \"name\": \"Eva\", \"status\": \"inactive\"}\n",
    "]\n",
    "with open('data.json', 'w') as f:\n",
    "    json.dump(data_json, f, indent=2)\n",
    "\n",
    "# report.txt (tab-separated)\n",
    "report_txt = \"id\\tname\\tscore\\n1\\tAlice\\t87\\n2\\tBob\\t90\\n3\\tCharlie\\t78\\n4\\tDavid\\t85\\n5\\tEva\\t92\\n\"\n",
    "with open('report.txt', 'w') as f:\n",
    "    f.write(report_txt)\n",
    "print(\"Sample files created!\")"
   ]
  },
  {
   "cell_type": "code",
   "execution_count": null,
   "id": "q1",
   "metadata": {},
   "outputs": [],
   "source": [
    "import pandas as pd\n",
    "df_students = pd.read_csv('students.csv')\n",
    "print(\"Q1: DataFrame from students.csv:\")\n",
    "print(df_students, \"\\n\")"
   ]
  },
  {
   "cell_type": "code",
   "execution_count": null,
   "id": "q2",
   "metadata": {},
   "outputs": [],
   "source": [
    "df_sales = pd.read_excel('sales.xlsx', usecols=['Q1', 'Q2'])\n",
    "print(\"Q2: DataFrame from sales.xlsx (columns Q1 and Q2):\")\n",
    "print(df_sales, \"\\n\")"
   ]
  },
  {
   "cell_type": "code",
   "execution_count": null,
   "id": "q3",
   "metadata": {},
   "outputs": [],
   "source": [
    "df_json = pd.read_json('data.json')\n",
    "print(\"Q3: First 5 rows from data.json:\")\n",
    "print(df_json.head(), \"\\n\")"
   ]
  },
  {
   "cell_type": "code",
   "execution_count": null,
   "id": "q4",
   "metadata": {},
   "outputs": [],
   "source": [
    "df_report = pd.read_csv('report.txt', sep='\\t')\n",
    "print(\"Q4: DataFrame from report.txt:\")\n",
    "print(df_report, \"\\n\")"
   ]
  },
  {
   "cell_type": "code",
   "execution_count": null,
   "id": "q5",
   "metadata": {},
   "outputs": [],
   "source": [
    "data_dict = {\n",
    "    'id': [1, 2, 3],\n",
    "    'value': ['A', 'B', 'C']\n",
    "}\n",
    "df_dict = pd.DataFrame(data_dict)\n",
    "df_dict.to_csv('output.csv', index=False)\n",
    "df_readback = pd.read_csv('output.csv')\n",
    "print(\"Q5: DataFrame created from dictionary and read from output.csv:\")\n",
    "print(df_readback, \"\\n\")"
   ]
  },
  {
   "cell_type": "code",
   "execution_count": null,
   "id": "q6",
   "metadata": {},
   "outputs": [],
   "source": [
    "df_skip_rows = pd.read_excel('sales.xlsx', skiprows=2)\n",
    "print(\"Q6: DataFrame from sales.xlsx skipping first 2 rows:\")\n",
    "print(df_skip_rows, \"\\n\")"
   ]
  },
  {
   "cell_type": "code",
   "execution_count": null,
   "id": "q7",
   "metadata": {},
   "outputs": [],
   "source": [
    "df_json.to_json('output.json', orient='records', indent=2)\n",
    "print(\"Q7: DataFrame saved as output.json\\n\")"
   ]
  },
  {
   "cell_type": "code",
   "execution_count": null,
   "id": "q8",
   "metadata": {},
   "outputs": [],
   "source": [
    "df_no_header = pd.read_csv('students.csv', header=0, names=['StudentName', 'StudentAge', 'StudentGrade'])\n",
    "print(\"Q8: DataFrame from students.csv with custom column names:\")\n",
    "print(df_no_header, \"\\n\")"
   ]
  },
  {
   "cell_type": "code",
   "execution_count": null,
   "id": "q9",
   "metadata": {},
   "outputs": [],
   "source": [
    "df_json_active = df_json[df_json['status'] == 'active']\n",
    "print(\"Q9: Filtered data from data.json where status is active:\")\n",
    "print(df_json_active, \"\\n\")"
   ]
  },
  {
   "cell_type": "code",
   "execution_count": null,
   "id": "q10",
   "metadata": {},
   "outputs": [],
   "source": [
    "df_students.to_excel('converted_output.xlsx', index=False)\n",
    "print(\"Q10: DataFrame from students.csv saved as converted_output.xlsx\\n\")"
   ]
  }
 ],
 "metadata": {
  "kernelspec": {
   "display_name": "Python 3",
   "language": "python",
   "name": "python3"
  },
  "language_info": {
   "codemirror_mode": {
    "name": "ipython",
    "version": 3
   },
   "file_extension": ".py",
   "mimetype": "text/x-python",
   "name": "python",
   "nbconvert_exporter": "python",
   "pygments_lexer": "ipython3",
   "version": "3.8.5"
  }
 },
 "nbformat": 4,
 "nbformat_minor": 5
}
