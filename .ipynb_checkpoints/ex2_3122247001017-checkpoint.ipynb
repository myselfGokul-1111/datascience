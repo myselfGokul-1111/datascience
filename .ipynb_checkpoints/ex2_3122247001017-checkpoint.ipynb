{
 "cells": [
  {
   "cell_type": "markdown",
   "id": "30f194ee-c88b-4fdb-9b39-73a747992981",
   "metadata": {},
   "source": [
    "Name : Gokul N V"
   ]
  },
  {
   "cell_type": "markdown",
   "id": "cc791ad4-3a87-44d6-a56b-4c4f6c28a4f5",
   "metadata": {},
   "source": [
    "------------------------------------------------------------------------------------"
   ]
  },
  {
   "cell_type": "markdown",
   "id": "d6b5a1e7-f6ea-43a0-9cc8-493faf042444",
   "metadata": {},
   "source": [
    "i am doing this step so in case there is no file it will create and by which to work"
   ]
  },
  {
   "cell_type": "code",
   "execution_count": 14,
   "id": "327c2d71-e284-4435-8be9-3089fa723542",
   "metadata": {},
   "outputs": [
    {
     "name": "stdout",
     "output_type": "stream",
     "text": [
      "Sample files created!\n"
     ]
    }
   ],
   "source": [
    "# --- CREATE ALL REQUIRED DATA FILES AUTOMATICALLY ---\n",
    "import pandas as pd\n",
    "import json\n",
    "\n",
    "# students.csv\n",
    "students_csv = \"\"\"Name,Age,Grade\n",
    "Alice,20,A\n",
    "Bob,21,B\n",
    "Charlie,20,A\n",
    "David,22,C\n",
    "Eva,21,B\n",
    "\"\"\"\n",
    "with open('students.csv', 'w') as f:\n",
    "    f.write(students_csv)\n",
    "\n",
    "# sales.xlsx\n",
    "sales_data = {\n",
    "    'Q1': [100, 150, 175],\n",
    "    'Q2': [200, 250, 225],\n",
    "    'Q3': [300, 350, 325]\n",
    "}\n",
    "df_sales = pd.DataFrame(sales_data)\n",
    "df_sales.to_excel('sales.xlsx', index=False)\n",
    "\n",
    "# data.json\n",
    "data_json = [\n",
    "    {\"id\": 1, \"name\": \"Alice\", \"status\": \"active\"},\n",
    "    {\"id\": 2, \"name\": \"Bob\", \"status\": \"inactive\"},\n",
    "    {\"id\": 3, \"name\": \"Charlie\", \"status\": \"active\"},\n",
    "    {\"id\": 4, \"name\": \"David\", \"status\": \"active\"},\n",
    "    {\"id\": 5, \"name\": \"Eva\", \"status\": \"inactive\"}\n",
    "]\n",
    "with open('data.json', 'w') as f:\n",
    "    json.dump(data_json, f, indent=2)\n",
    "\n",
    "# report.txt (tab-separated)\n",
    "report_txt = \"id\\tname\\tscore\\n1\\tAlice\\t87\\n2\\tBob\\t90\\n3\\tCharlie\\t78\\n4\\tDavid\\t85\\n5\\tEva\\t92\\n\"\n",
    "with open('report.txt', 'w') as f:\n",
    "    f.write(report_txt)\n",
    "print(\"Sample files created!\")"
   ]
  },
  {
   "cell_type": "markdown",
   "id": "0940cab0-f90d-4dda-b4cd-a725f33475e2",
   "metadata": {},
   "source": [
    "Q1: DataFrame from students.csv:"
   ]
  },
  {
   "cell_type": "code",
   "execution_count": 15,
   "id": "q1",
   "metadata": {},
   "outputs": [
    {
     "name": "stdout",
     "output_type": "stream",
     "text": [
      "Q1: DataFrame from students.csv:\n",
      "      Name  Age Grade\n",
      "0    Alice   20     A\n",
      "1      Bob   21     B\n",
      "2  Charlie   20     A\n",
      "3    David   22     C\n",
      "4      Eva   21     B \n",
      "\n"
     ]
    }
   ],
   "source": [
    "import pandas as pd\n",
    "df_students = pd.read_csv('students.csv')\n",
    "print(\"Q1: DataFrame from students.csv:\")\n",
    "print(df_students, \"\\n\")"
   ]
  },
  {
   "cell_type": "markdown",
   "id": "51a922fe-b903-42bf-a5b6-64ee674d7f49",
   "metadata": {},
   "source": [
    "Q2: DataFrame from sales.xlsx (columns Q1 and Q2):"
   ]
  },
  {
   "cell_type": "code",
   "execution_count": 16,
   "id": "q2",
   "metadata": {},
   "outputs": [
    {
     "name": "stdout",
     "output_type": "stream",
     "text": [
      "Q2: DataFrame from sales.xlsx (columns Q1 and Q2):\n",
      "    Q1   Q2\n",
      "0  100  200\n",
      "1  150  250\n",
      "2  175  225 \n",
      "\n"
     ]
    }
   ],
   "source": [
    "df_sales = pd.read_excel('sales.xlsx', usecols=['Q1', 'Q2'])\n",
    "print(\"Q2: DataFrame from sales.xlsx (columns Q1 and Q2):\")\n",
    "print(df_sales, \"\\n\")"
   ]
  },
  {
   "cell_type": "markdown",
   "id": "79c06349-0572-4e96-ae8a-66cd2eb928cb",
   "metadata": {},
   "source": [
    "Q3: First 5 rows from data.json:"
   ]
  },
  {
   "cell_type": "code",
   "execution_count": 17,
   "id": "q3",
   "metadata": {},
   "outputs": [
    {
     "name": "stdout",
     "output_type": "stream",
     "text": [
      "Q3: First 5 rows from data.json:\n",
      "   id     name    status\n",
      "0   1    Alice    active\n",
      "1   2      Bob  inactive\n",
      "2   3  Charlie    active\n",
      "3   4    David    active\n",
      "4   5      Eva  inactive \n",
      "\n"
     ]
    }
   ],
   "source": [
    "df_json = pd.read_json('data.json')\n",
    "print(\"Q3: First 5 rows from data.json:\")\n",
    "print(df_json.head(), \"\\n\")"
   ]
  },
  {
   "cell_type": "markdown",
   "id": "37600850-3bda-403c-920a-c49b2ab7a385",
   "metadata": {},
   "source": [
    "Q4: DataFrame from report.txt:\")"
   ]
  },
  {
   "cell_type": "code",
   "execution_count": 18,
   "id": "q4",
   "metadata": {},
   "outputs": [
    {
     "name": "stdout",
     "output_type": "stream",
     "text": [
      "Q4: DataFrame from report.txt:\n",
      "   id     name  score\n",
      "0   1    Alice     87\n",
      "1   2      Bob     90\n",
      "2   3  Charlie     78\n",
      "3   4    David     85\n",
      "4   5      Eva     92 \n",
      "\n"
     ]
    }
   ],
   "source": [
    "df_report = pd.read_csv('report.txt', sep='\\t')\n",
    "print(\"Q4: DataFrame from report.txt:\")\n",
    "print(df_report, \"\\n\")"
   ]
  },
  {
   "cell_type": "markdown",
   "id": "8438023e-462c-4895-9857-2422f70ddec7",
   "metadata": {},
   "source": [
    "Q5: DataFrame created from dictionary and read from output.csv:"
   ]
  },
  {
   "cell_type": "code",
   "execution_count": 19,
   "id": "q5",
   "metadata": {},
   "outputs": [
    {
     "name": "stdout",
     "output_type": "stream",
     "text": [
      "Q5: DataFrame created from dictionary and read from output.csv:\n",
      "   id value\n",
      "0   1     A\n",
      "1   2     B\n",
      "2   3     C \n",
      "\n"
     ]
    }
   ],
   "source": [
    "data_dict = {\n",
    "    'id': [1, 2, 3],\n",
    "    'value': ['A', 'B', 'C']\n",
    "}\n",
    "df_dict = pd.DataFrame(data_dict)\n",
    "df_dict.to_csv('output.csv', index=False)\n",
    "df_readback = pd.read_csv('output.csv')\n",
    "print(\"Q5: DataFrame created from dictionary and read from output.csv:\")\n",
    "print(df_readback, \"\\n\")"
   ]
  },
  {
   "cell_type": "markdown",
   "id": "50232cd5-f690-441d-8003-cd6cb96ca212",
   "metadata": {},
   "source": [
    "Q6: DataFrame from sales.xlsx skipping first 2 rows:"
   ]
  },
  {
   "cell_type": "code",
   "execution_count": 20,
   "id": "q6",
   "metadata": {},
   "outputs": [
    {
     "name": "stdout",
     "output_type": "stream",
     "text": [
      "Q6: DataFrame from sales.xlsx skipping first 2 rows:\n",
      "   150  250  350\n",
      "0  175  225  325 \n",
      "\n"
     ]
    }
   ],
   "source": [
    "df_skip_rows = pd.read_excel('sales.xlsx', skiprows=2)\n",
    "print(\"Q6: DataFrame from sales.xlsx skipping first 2 rows:\")\n",
    "print(df_skip_rows, \"\\n\")"
   ]
  },
  {
   "cell_type": "markdown",
   "id": "124080af-1216-458b-b2b3-69c0dd0a46bc",
   "metadata": {},
   "source": [
    "Q7: DataFrame saved as output.json\\n"
   ]
  },
  {
   "cell_type": "code",
   "execution_count": 21,
   "id": "q7",
   "metadata": {},
   "outputs": [
    {
     "name": "stdout",
     "output_type": "stream",
     "text": [
      "Q7: DataFrame saved as output.json\n",
      "\n"
     ]
    }
   ],
   "source": [
    "df_json.to_json('output.json', orient='records', indent=2)\n",
    "print(\"Q7: DataFrame saved as output.json\\n\")"
   ]
  },
  {
   "cell_type": "markdown",
   "id": "e55b46c4-0c81-4b9a-ac50-76ce8d7acce7",
   "metadata": {},
   "source": [
    "Q8: DataFrame from students.csv with custom column names:"
   ]
  },
  {
   "cell_type": "code",
   "execution_count": 22,
   "id": "q8",
   "metadata": {},
   "outputs": [
    {
     "name": "stdout",
     "output_type": "stream",
     "text": [
      "Q8: DataFrame from students.csv with custom column names:\n",
      "  StudentName  StudentAge StudentGrade\n",
      "0       Alice          20            A\n",
      "1         Bob          21            B\n",
      "2     Charlie          20            A\n",
      "3       David          22            C\n",
      "4         Eva          21            B \n",
      "\n"
     ]
    }
   ],
   "source": [
    "df_no_header = pd.read_csv('students.csv', header=0, names=['StudentName', 'StudentAge', 'StudentGrade'])\n",
    "print(\"Q8: DataFrame from students.csv with custom column names:\")\n",
    "print(df_no_header, \"\\n\")"
   ]
  },
  {
   "cell_type": "markdown",
   "id": "b7e0b93f-e514-4e07-99d0-c8dbe4d43664",
   "metadata": {},
   "source": [
    "Q9: Filtered data from data.json where status is active:"
   ]
  },
  {
   "cell_type": "code",
   "execution_count": 23,
   "id": "q9",
   "metadata": {},
   "outputs": [
    {
     "name": "stdout",
     "output_type": "stream",
     "text": [
      "Q9: Filtered data from data.json where status is active:\n",
      "   id     name  status\n",
      "0   1    Alice  active\n",
      "2   3  Charlie  active\n",
      "3   4    David  active \n",
      "\n"
     ]
    }
   ],
   "source": [
    "df_json_active = df_json[df_json['status'] == 'active']\n",
    "print(\"Q9: Filtered data from data.json where status is active:\")\n",
    "print(df_json_active, \"\\n\")"
   ]
  },
  {
   "cell_type": "markdown",
   "id": "4da023ef-54d4-4f15-8a65-9193c0fb685b",
   "metadata": {},
   "source": [
    "\"Q10: DataFrame from students.csv saved as converted_output.xlsx\\n"
   ]
  },
  {
   "cell_type": "code",
   "execution_count": 24,
   "id": "q10",
   "metadata": {},
   "outputs": [
    {
     "name": "stdout",
     "output_type": "stream",
     "text": [
      "Q10: DataFrame from students.csv saved as converted_output.xlsx\n",
      "\n"
     ]
    }
   ],
   "source": [
    "df_students.to_excel('converted_output.xlsx', index=False)\n",
    "print(\"Q10: DataFrame from students.csv saved as converted_output.xlsx\\n\")"
   ]
  }
 ],
 "metadata": {
  "kernelspec": {
   "display_name": "Python 3 (ipykernel)",
   "language": "python",
   "name": "python3"
  },
  "language_info": {
   "codemirror_mode": {
    "name": "ipython",
    "version": 3
   },
   "file_extension": ".py",
   "mimetype": "text/x-python",
   "name": "python",
   "nbconvert_exporter": "python",
   "pygments_lexer": "ipython3",
   "version": "3.13.1"
  }
 },
 "nbformat": 4,
 "nbformat_minor": 5
}
